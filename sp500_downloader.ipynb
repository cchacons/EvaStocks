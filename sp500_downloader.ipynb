{
 "cells": [
  {
   "cell_type": "code",
   "execution_count": 1,
   "metadata": {
    "collapsed": false
   },
   "outputs": [
    {
     "data": {
      "text/plain": [
       "'\\nDownload and save S&P 500 company names, ticker symbols, and industry sectors as a csv file.\\nSource from Wikipedia page: https://en.wikipedia.org/wiki/List_of_S%26P_500_companies.\\nRequires beautiful-soup4, html5lib and lxml.\\n'"
      ]
     },
     "execution_count": 1,
     "metadata": {},
     "output_type": "execute_result"
    }
   ],
   "source": [
    "\"\"\"\n",
    "Download and save S&P 500 company names, ticker symbols, and industry sectors as a csv file.\n",
    "Source from Wikipedia page: https://en.wikipedia.org/wiki/List_of_S%26P_500_companies.\n",
    "Requires beautiful-soup4, html5lib and lxml.\n",
    "\"\"\""
   ]
  },
  {
   "cell_type": "code",
   "execution_count": 2,
   "metadata": {
    "collapsed": true
   },
   "outputs": [],
   "source": [
    "import pandas as pd\n",
    "from pandas import DataFrame, read_html"
   ]
  },
  {
   "cell_type": "code",
   "execution_count": 3,
   "metadata": {
    "collapsed": false
   },
   "outputs": [],
   "source": [
    "def stock_downloader(source):\n",
    "    # read company info into a list\n",
    "    companies_list = read_html(source)\n",
    "    companies = companies_list[0]\n",
    "    \n",
    "    # deal with header\n",
    "    columns = companies.ix[0]\n",
    "    companies.columns = columns.values\n",
    "    companies = companies.drop(0)\n",
    "    \n",
    "    # only include Security, Ticker symbol and GICS Sector\n",
    "    companies_dframe = DataFrame(companies, columns=[\"Security\", \"Ticker symbol\", \"GICS Sector\"])\n",
    "    \n",
    "    return companies_dframe"
   ]
  },
  {
   "cell_type": "code",
   "execution_count": 4,
   "metadata": {
    "collapsed": true
   },
   "outputs": [],
   "source": [
    "def stock_saver(source, filename):\n",
    "    companies_dframe = stock_downloader(source)\n",
    "    \n",
    "    # save as a csv file\n",
    "    companies_dframe.to_csv(filename)"
   ]
  },
  {
   "cell_type": "code",
   "execution_count": 5,
   "metadata": {
    "collapsed": false
   },
   "outputs": [
    {
     "name": "stdout",
     "output_type": "stream",
     "text": [
      "<class 'pandas.core.frame.DataFrame'>\n",
      "Int64Index: 502 entries, 0 to 501\n",
      "Data columns (total 4 columns):\n",
      "Unnamed: 0       502 non-null int64\n",
      "Security         502 non-null object\n",
      "Ticker symbol    502 non-null object\n",
      "GICS Sector      502 non-null object\n",
      "dtypes: int64(1), object(3)\n",
      "memory usage: 19.6+ KB\n",
      "None\n"
     ]
    }
   ],
   "source": [
    "if __name__ == \"__main__\":\n",
    "    source = \"https://en.wikipedia.org/wiki/List_of_S%26P_500_companies\"\n",
    "    filename = \"sp500.csv\"\n",
    "    stock_saver(source, filename)\n",
    "    companies_dframe = pd.read_csv(filename)\n",
    "    print companies_dframe.info()"
   ]
  }
 ],
 "metadata": {
  "kernelspec": {
   "display_name": "Python 2",
   "language": "python",
   "name": "python2"
  },
  "language_info": {
   "codemirror_mode": {
    "name": "ipython",
    "version": 2
   },
   "file_extension": ".py",
   "mimetype": "text/x-python",
   "name": "python",
   "nbconvert_exporter": "python",
   "pygments_lexer": "ipython2",
   "version": "2.7.10"
  }
 },
 "nbformat": 4,
 "nbformat_minor": 0
}
